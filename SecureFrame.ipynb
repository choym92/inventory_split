{
 "cells": [
  {
   "cell_type": "markdown",
   "metadata": {},
   "source": [
    "# SecureFrame: Machine Learning Using Semi-Encrypted DataFrames"
   ]
  },
  {
   "cell_type": "markdown",
   "metadata": {},
   "source": [
    "## Import Python Libraries"
   ]
  },
  {
   "cell_type": "code",
   "execution_count": 1,
   "metadata": {},
   "outputs": [],
   "source": [
    "import random\n",
    "import ast\n",
    "import numpy as np\n",
    "import pandas as pd\n",
    "from sklearn.datasets import load_iris\n",
    "from sklearn.ensemble import RandomForestClassifier\n",
    "from sklearn.model_selection import train_test_split\n",
    "from sklearn import metrics\n",
    "from cryptography.fernet import Fernet"
   ]
  },
  {
   "cell_type": "markdown",
   "metadata": {},
   "source": [
    "## Define SecureFrame Encryption Function"
   ]
  },
  {
   "cell_type": "code",
   "execution_count": 2,
   "metadata": {},
   "outputs": [],
   "source": [
    "def SecureFrame(dataframe, ignore_cols=[''], ohe_cols=[''], augment_constant=False, encrypt_strings=False):\n",
    "\n",
    "    '''A function which returns an encrypted DataFrame packet containing an encryption factor, encrypted column headers,\n",
    "    and augmented DataFrame. The function also returns an encryption key which is used to decrypt the encryption\n",
    "    packet.'''\n",
    "\n",
    "    encryption_key = Fernet.generate_key() # Generate Fernet encryption key.\n",
    "    cipher_suite = Fernet(encryption_key) # Initiate Fernet.\n",
    "\n",
    "    dataframe_columns = list(dataframe.columns.values) # Create list containing DataFrame columns.\n",
    "    factor = random.randint(7000, 13000) / 10000 # Generate random factor for encryption.\n",
    "\n",
    "    encrypted_columns = cipher_suite.encrypt(str(dataframe_columns).encode(\"utf-8\")) # Encrypt DataFrame columns.\n",
    "    encrypted_factor = cipher_suite.encrypt(str(factor).encode(\"utf-8\")) # Encrypt randomly generated factor.\n",
    "\n",
    "    \n",
    "    col_list = list(range(len(dataframe_columns))) # Generate list of temporary DataFrame columns.\n",
    "    dataframe.columns = [str(x) for x in col_list]\n",
    "\n",
    "    for col in dataframe.columns:\n",
    "        try:\n",
    "            if col in ignore_cols:\n",
    "                dataframe[col] = dataframe[col] # Do not augment column if indices are present within ignore_cols argument.\n",
    "\n",
    "            elif dataframe[col].nunique() == 1:\n",
    "                if augment_constant == True:\n",
    "                    dataframe[col] = dataframe[col].apply(lambda x: float(x) * factor) # Augment columns with only one value.\n",
    "                else:\n",
    "                    dataframe[col] = dataframe[col]\n",
    "                    \n",
    "            elif dataframe[col].isin([0, 1]).all(): # Ignore OHE columns.\n",
    "                dataframe[col] = dataframe[col]\n",
    "                \n",
    "            else:\n",
    "                dataframe[col] = dataframe[col].apply(lambda x: float(x) * factor) # Augment columns.\n",
    "\n",
    "        except (TypeError, ValueError):\n",
    "            if encrypt_strings == True:\n",
    "                dataframe[col] = dataframe[col].apply(lambda x: cipher_suite.encrypt(str(x).encode(\"utf-8\"))) # Encrypt strings.\n",
    "            else:\n",
    "                dataframe[col] = dataframe[col] # Do not augment column if it contains a string.\n",
    "                \n",
    "\n",
    "    encrypted_packet = {'encrypted_factor' : encrypted_factor,\n",
    "                        'encrypted_columns' : encrypted_columns,\n",
    "                        'augmented_dataframe' : dataframe,\n",
    "                        'ignore_cols' : ignore_cols,\n",
    "                        'ohe_cols' : ohe_cols}\n",
    "\n",
    "\n",
    "    return encrypted_packet, encryption_key"
   ]
  },
  {
   "cell_type": "markdown",
   "metadata": {},
   "source": [
    "## Define SecureFrame Decryption Function"
   ]
  },
  {
   "cell_type": "code",
   "execution_count": 3,
   "metadata": {},
   "outputs": [],
   "source": [
    "def DecryptSecureFrame(encrypted_packet, encryption_key):\n",
    "\n",
    "    '''A function which returns a decrypted DataFrame when passed an encrypted DataFrame with its associated\n",
    "    encryption key.'''\n",
    "\n",
    "    cipher_suite = Fernet(encryption_key)\n",
    "\n",
    "    encrypted_factor = encrypted_packet['encrypted_factor']\n",
    "    encrypted_columns = encrypted_packet['encrypted_columns']\n",
    "    augmented_dataframe = encrypted_packet['augmented_dataframe']\n",
    "    ignore_cols = encrypted_packet['ignore_cols']\n",
    "\n",
    "    decrypted_factor = cipher_suite.decrypt(encrypted_factor).decode(\"utf-8\")\n",
    "    decrypted_columns = cipher_suite.decrypt(encrypted_columns).decode(\"utf-8\")\n",
    "\n",
    "    for col in augmented_dataframe.columns:\n",
    "        try:\n",
    "            if col in ignore_cols:\n",
    "                augmented_dataframe[col] = augmented_dataframe[col]\n",
    "\n",
    "            elif augmented_dataframe[col].nunique() == 1:\n",
    "                augmented_dataframe[col] = augmented_dataframe[col]\n",
    "                \n",
    "            elif augmented_dataframe[col].isin([0, 1]).all(): # Ignore OHE columns.\n",
    "                augmented_dataframe[col] = augmented_dataframe[col]\n",
    "\n",
    "            else:\n",
    "                augmented_dataframe[col] = augmented_dataframe[col].apply(lambda x: float(x) / float(decrypted_factor))\n",
    "\n",
    "        except (TypeError, ValueError):\n",
    "            try:\n",
    "                augmented_dataframe[col] = augmented_dataframe[col].apply(lambda x: cipher_suite.decrypt(x).decode(\"utf-8\"))\n",
    "            except:\n",
    "                augmented_dataframe[col] = augmented_dataframe[col]\n",
    "\n",
    "    decrypted_dataframe = augmented_dataframe\n",
    "    decrypted_dataframe.columns = ast.literal_eval(decrypted_columns)\n",
    "\n",
    "\n",
    "    return decrypted_dataframe"
   ]
  },
  {
   "cell_type": "markdown",
   "metadata": {},
   "source": [
    "## Demonstrating Transferring Between DataFrames and SecureFrames"
   ]
  },
  {
   "cell_type": "markdown",
   "metadata": {},
   "source": [
    "#### Create Dummy DataFrame"
   ]
  },
  {
   "cell_type": "code",
   "execution_count": 4,
   "metadata": {},
   "outputs": [
    {
     "name": "stdout",
     "output_type": "stream",
     "text": [
      "   Fat  Protein  Fibre    Product  Result\n",
      "0   43        7      3  Product 1       0\n",
      "1   22        5      3  Product 2       0\n",
      "2   27       11      4  Product 2       1\n"
     ]
    }
   ],
   "source": [
    "test_data = pd.DataFrame([[43, 7, 3, 'Product 1', 0], [22, 5, 3, 'Product 2', 0], [27, 11, 4, 'Product 2', 1]], columns=['Fat', 'Protein', 'Fibre', 'Product', 'Result'])\n",
    "print(test_data)"
   ]
  },
  {
   "cell_type": "markdown",
   "metadata": {},
   "source": [
    "#### Create SecureFrame Using DataFrame."
   ]
  },
  {
   "cell_type": "code",
   "execution_count": 5,
   "metadata": {},
   "outputs": [
    {
     "name": "stdout",
     "output_type": "stream",
     "text": [
      "         0        1       2  \\\n",
      "0  53.7715   8.7535  3.7515   \n",
      "1  27.5110   6.2525  3.7515   \n",
      "2  33.7635  13.7555  5.0020   \n",
      "\n",
      "                                                   3  4  \n",
      "0  b'gAAAAABdsKxFCe15_pjtreX47uWjHD7E-qWgJxV1LeWR...  0  \n",
      "1  b'gAAAAABdsKxFpOTrhkiEBFt4C2zSnbDIq7KRVYFTp8j7...  0  \n",
      "2  b'gAAAAABdsKxFeZFEJRLlgTbdsx_CAU9qrRuSDSMBgDlE...  1  \n"
     ]
    }
   ],
   "source": [
    "secure_frame = SecureFrame(test_data, encrypt_strings=True, ignore_cols=['']) # NOTE: encrypt_strings=True.\n",
    "secure_dataframe = secure_frame[0]\n",
    "encryption_key = secure_frame[1]\n",
    "print(secure_dataframe['augmented_dataframe'])"
   ]
  },
  {
   "cell_type": "code",
   "execution_count": 6,
   "metadata": {},
   "outputs": [
    {
     "name": "stdout",
     "output_type": "stream",
     "text": [
      "    Fat  Protein  Fibre    Product  Result\n",
      "0  43.0      7.0    3.0  Product 1       0\n",
      "1  22.0      5.0    3.0  Product 2       0\n",
      "2  27.0     11.0    4.0  Product 2       1\n"
     ]
    }
   ],
   "source": [
    "decrypted_secure_frame = DecryptSecureFrame(secure_dataframe, encryption_key)\n",
    "print(decrypted_secure_frame)"
   ]
  },
  {
   "cell_type": "markdown",
   "metadata": {},
   "source": [
    "## Machine Learning Using SecureFrames"
   ]
  },
  {
   "cell_type": "markdown",
   "metadata": {},
   "source": [
    "#### Load Iris Dataset"
   ]
  },
  {
   "cell_type": "code",
   "execution_count": 7,
   "metadata": {},
   "outputs": [
    {
     "name": "stdout",
     "output_type": "stream",
     "text": [
      "   sepal length (cm)  sepal width (cm)  petal length (cm)  petal width (cm)  \\\n",
      "0                5.1               3.5                1.4               0.2   \n",
      "1                4.9               3.0                1.4               0.2   \n",
      "2                4.7               3.2                1.3               0.2   \n",
      "3                4.6               3.1                1.5               0.2   \n",
      "4                5.0               3.6                1.4               0.2   \n",
      "\n",
      "   target  \n",
      "0     0.0  \n",
      "1     0.0  \n",
      "2     0.0  \n",
      "3     0.0  \n",
      "4     0.0  \n"
     ]
    }
   ],
   "source": [
    "iris = load_iris()\n",
    "iris_df = pd.DataFrame(data= np.c_[iris['data'], iris['target']], columns= iris['feature_names'] + ['target'])\n",
    "print(iris_df.head())"
   ]
  },
  {
   "cell_type": "markdown",
   "metadata": {},
   "source": [
    "#### Develop Random Forest Model Using Iris DataFrame"
   ]
  },
  {
   "cell_type": "code",
   "execution_count": 8,
   "metadata": {},
   "outputs": [
    {
     "name": "stdout",
     "output_type": "stream",
     "text": [
      "Accuracy: 0.9333333333333333\n"
     ]
    }
   ],
   "source": [
    "X = iris_df[['sepal length (cm)', 'sepal width (cm)', 'petal length (cm)', 'petal width (cm)']]  # Iris features.\n",
    "y = iris_df['target']  # Iris targets.\n",
    "X_train, X_test, y_train, y_test = train_test_split(X, y, test_size=0.3, random_state=5)\n",
    "\n",
    "\n",
    "clf = RandomForestClassifier(n_estimators=100, random_state=0)\n",
    "clf.fit(X_train,y_train)\n",
    "y_pred = clf.predict(X_test)\n",
    "\n",
    "\n",
    "accuracy = metrics.accuracy_score(y_test, y_pred)\n",
    "print(\"Accuracy:\", accuracy)"
   ]
  },
  {
   "cell_type": "markdown",
   "metadata": {},
   "source": [
    "#### Create SecureFrame Using Iris DataFrame"
   ]
  },
  {
   "cell_type": "code",
   "execution_count": 121,
   "metadata": {},
   "outputs": [
    {
     "name": "stdout",
     "output_type": "stream",
     "text": [
      "           0        1        2        3    4\n",
      "29   5.58078  3.79968  1.89984  0.23748  0.0\n",
      "17   6.05574  4.15590  1.66236  0.35622  0.0\n",
      "45   5.69952  3.56220  1.66236  0.35622  0.0\n",
      "104  7.71810  3.56220  6.88692  2.61228  2.0\n",
      "7    5.93700  4.03716  1.78110  0.23748  0.0\n"
     ]
    }
   ],
   "source": [
    "iris = load_iris()\n",
    "iris_df = pd.DataFrame(data= np.c_[iris['data'], iris['target']], columns= iris['feature_names'] + ['target'])\n",
    "\n",
    "secure_frame = SecureFrame(iris_df, ignore_cols=['4']) # NOTE: encrypt_strings=True.\n",
    "secure_dataframe = secure_frame[0]\n",
    "encryption_key = secure_frame[1]\n",
    "\n",
    "secure_iris_df = secure_dataframe['augmented_dataframe']\n",
    "print(secure_iris_df.sample(5))"
   ]
  },
  {
   "cell_type": "code",
   "execution_count": 122,
   "metadata": {},
   "outputs": [
    {
     "name": "stdout",
     "output_type": "stream",
     "text": [
      "Accuracy: 0.9333333333333333\n"
     ]
    }
   ],
   "source": [
    "X = secure_iris_df[['0', '1', '2', '3']]  # Iris features.\n",
    "y = secure_iris_df['4']  # Iris targets.\n",
    "X_train, X_test, y_train, y_test = train_test_split(X, y, test_size=0.3, random_state=5)\n",
    "\n",
    "\n",
    "clf = RandomForestClassifier(n_estimators=100, random_state=0)\n",
    "clf.fit(X_train,y_train)\n",
    "y_pred = clf.predict(X_test)\n",
    "\n",
    "\n",
    "accuracy = metrics.accuracy_score(y_test, y_pred)\n",
    "print(\"Accuracy:\", accuracy)"
   ]
  },
  {
   "cell_type": "code",
   "execution_count": null,
   "metadata": {},
   "outputs": [],
   "source": [
    "#add comments\n",
    "#start zoe thing"
   ]
  }
 ],
 "metadata": {
  "kernelspec": {
   "display_name": "Python 3",
   "language": "python",
   "name": "python3"
  },
  "language_info": {
   "codemirror_mode": {
    "name": "ipython",
    "version": 3
   },
   "file_extension": ".py",
   "mimetype": "text/x-python",
   "name": "python",
   "nbconvert_exporter": "python",
   "pygments_lexer": "ipython3",
   "version": "3.7.3"
  }
 },
 "nbformat": 4,
 "nbformat_minor": 2
}
